{
 "cells": [
  {
   "cell_type": "code",
   "execution_count": 9,
   "id": "5b7a9c45",
   "metadata": {},
   "outputs": [
    {
     "name": "stdout",
     "output_type": "stream",
     "text": [
      "[[-1.]\n",
      " [ 2.]]\n",
      "[[0.]\n",
      " [0.]]\n"
     ]
    }
   ],
   "source": [
    "import numpy as np\n",
    "from scipy.linalg import solve\n",
    "\n",
    "A=np.array([[5,2],[3,-2]])\n",
    "b=np.array([[-1],[-7]])\n",
    "\n",
    "x=solve(A,b)\n",
    "print(x)\n",
    "print(A.dot(x) - b)"
   ]
  },
  {
   "cell_type": "code",
   "execution_count": 11,
   "id": "88f72bad",
   "metadata": {},
   "outputs": [
    {
     "name": "stdout",
     "output_type": "stream",
     "text": [
      "Optimization terminated successfully. (HiGHS Status 7: Optimal)\n",
      "[0. 2.]\n",
      "-6.0\n"
     ]
    }
   ],
   "source": [
    "import numpy as np\n",
    "from scipy.optimize import linprog\n",
    "\n",
    "c = np.array([-1,-3])\n",
    "A_ub = np.array([[1,1],[-2,-3]])\n",
    "b_ub = np.array([2,-6])\n",
    "\n",
    "x1_bounds = (0,None)\n",
    "x2_bounds = (0,None)\n",
    "\n",
    "bounds = [x1_bounds,x2_bounds]\n",
    "result = linprog(c,A_ub=A_ub,b_ub=b_ub,bounds=bounds)\n",
    "print(result.message)\n",
    "print(result.x)\n",
    "print(result.fun)"
   ]
  },
  {
   "cell_type": "code",
   "execution_count": null,
   "id": "050f7200",
   "metadata": {},
   "outputs": [],
   "source": []
  }
 ],
 "metadata": {
  "kernelspec": {
   "display_name": "Python 3 (ipykernel)",
   "language": "python",
   "name": "python3"
  },
  "language_info": {
   "codemirror_mode": {
    "name": "ipython",
    "version": 3
   },
   "file_extension": ".py",
   "mimetype": "text/x-python",
   "name": "python",
   "nbconvert_exporter": "python",
   "pygments_lexer": "ipython3",
   "version": "3.11.5"
  }
 },
 "nbformat": 4,
 "nbformat_minor": 5
}
